{
 "cells": [
  {
   "cell_type": "markdown",
   "id": "bcb68d37",
   "metadata": {},
   "source": [
    "| Start Node   | Amount | End Node       | Relationship              |\n",
    "|--------------|--------|----------------|---------------------------|\n",
    "| Aim          | 1      | Aimtype        | HAS_AIMTYPE               |\n",
    "| Exo          | +1     | Dof            | ASSISTS_IN                |\n",
    "| Exo          | 1      | SKN            | DOESNT_GO_WITH            |\n",
    "| Exo          | +1     | Dof            | GIVES_POSTURAL_SUPPORT_IN |\n",
    "| Exo          | +1     | Dof            | GIVES_RESISTANCE_IN       |\n",
    "| Exo          | +1     | SKN            | HAS_AIM                   |\n",
    "| Exo          | +1     | AIM            | HAS_AIM                   |\n",
    "| Exo          | +1     | Dof            | HAS_AS_MAIN_DOF           |\n",
    "| Exo          | +1     | ExoProperties  | HAS_PROPERTIES            |\n",
    "| Exo          | +1     | Dof            | LIMITS_IN                 |\n",
    "| Exo          | 1      | Part           | TRANSFERS_FORCES_FROM     |\n",
    "| Exo          | 1      | Part           | TRANSFERS_FORCES_TO       |\n",
    "| JointT       | +1     | Dof            | HAS_DOF                   |\n",
    "| JointT       | +1     | Part           | IS_CONNECTED_WITH         |\n",
    "| SKN          | 1      | SKNTYPE        | HAS_SKNTYPE               |\n",
    "| Aimtype      |        |                |                           |\n",
    "| Dof          |        |                |                           |\n",
    "| ExoProperty  |        |                |                           |\n",
    "| Part         |        |                |                           |\n",
    "| SKNT         |        |                |                           |\n"
   ]
  }
 ],
 "metadata": {
  "language_info": {
   "name": "python"
  }
 },
 "nbformat": 4,
 "nbformat_minor": 5
}
